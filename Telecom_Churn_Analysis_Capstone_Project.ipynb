{
  "nbformat": 4,
  "nbformat_minor": 0,
  "metadata": {
    "kernelspec": {
      "display_name": "Python 3",
      "language": "python",
      "name": "python3"
    },
    "language_info": {
      "codemirror_mode": {
        "name": "ipython",
        "version": 3
      },
      "file_extension": ".py",
      "mimetype": "text/x-python",
      "name": "python",
      "nbconvert_exporter": "python",
      "pygments_lexer": "ipython3",
      "version": "3.6.6"
    },
    "colab": {
      "name": "Telecom Churn Analysis - Capstone Project.ipynb",
      "provenance": [],
      "collapsed_sections": [],
      "include_colab_link": true
    }
  },
  "cells": [
    {
      "cell_type": "markdown",
      "metadata": {
        "id": "view-in-github",
        "colab_type": "text"
      },
      "source": [
        "<a href=\"https://colab.research.google.com/github/Subhajit53/Teleom-Churn-Analysis/blob/main/Telecom_Churn_Analysis_Capstone_Project.ipynb\" target=\"_parent\"><img src=\"https://colab.research.google.com/assets/colab-badge.svg\" alt=\"Open In Colab\"/></a>"
      ]
    },
    {
      "cell_type": "markdown",
      "metadata": {
        "id": "Y06xIdG26kRF"
      },
      "source": [
        "## <b> Orange S.A., formerly France Télécom S.A., is a French multinational telecommunications corporation. The Orange Telecom's Churn Dataset, consists of cleaned customer activity data (features), along with a churn label specifying whether a customer canceled the subscription.\n",
        "\n",
        "## <b> Explore and analyze the data to discover key factors responsible for customer churn and come up with ways/recommendations to ensure customer retention. </b>"
      ]
    },
    {
      "cell_type": "markdown",
      "metadata": {
        "id": "U3nvmdYRUigC"
      },
      "source": [
        "#<b>Introduction\n",
        "#####\"We see our customers as invited guests to a party, and we are the hosts. It's our job everyday to make every important aspect of the customer experience a little better.\"\n",
        "##### The above quote, given by Jeff Bezos, founder and CEO of Amazon, tells a lot about customer retention in this competitive world. If you don't serve your customers well, there are many hungry companies to take away that bite from your mouth.\n",
        "##### That's why, customer retention has been one of the chief goals of any customer serving company. Unsatisfied customers not only make loss to the business, but also creates a negative impression in the market.\n",
        "##### And in this telecom dependent era, there are a lot of emerging companies to give a tough competition to any other existing telecom industry whether it is in pricing, data speed, call connectivity, international charges and all.\n",
        "##### There might be several factors affecting customer churn for a specific company. Naturally, Orange S.A. also wants to find out what reasons are causing its customers to leave their services. And by finding that out, it can take precautious measures to retain its customers."
      ]
    },
    {
      "cell_type": "markdown",
      "metadata": {
        "id": "EymwBoDkZHmY"
      },
      "source": [
        "#<b> The Talking Data </b>\n",
        "##### Understanding the data is the first step towards any analysis. Without having an idea of what we have in our plates, we can't proceed a step. The data in question here have 20 columns and 3333 rows. Although no data dictionary was provided with the dataset, let's try to figure out what features our dataset have.\n",
        "1. <b> State: </b> State in which the customer lives in.\n",
        "2. <b> Account Length: </b> For how many days the customer is using the service.\n",
        "3. <b> Area Code: </b> An identifier to the area the customer lives in.\n",
        "4. <b> International plan: </b> A binary identifier to whether the customer has opt for an international plan.\n",
        "5. <b> Voice mail plan: </b> A binary identifier to whether the customer has opt for a voice mail plan.\n",
        "6. <b> Number vmail messages: </b> Number of voicemail messages sent or received.\n",
        "7. <b> Total day minutes: </b> How much the customer have talked over phone in the daytime.\n",
        "8. <b> Total day calls: </b> How many calls the customer have made over phone in the daytime.\n",
        "9. <b> Total day charge: </b> How much money was charged to the customer in the daytime.\n",
        "10. <b> Total eve minutes: </b> How much the customer have talked over phone in the evening.\n",
        "11. <b> Total eve calls: </b> How many calls the customer have made over phone in the evening.\n",
        "12. <b> Total eve charge: </b> How much money was charged to the customer in the evening.\n",
        "13. <b> Total night minutes: </b> How much the customer have talked over phone in the night.\n",
        "14. <b> Total night calls: </b> How many calls the customer have made over phone in the night\n",
        "15. <b> Total night charge: </b> How much money was charged to the customer in the night.\n",
        "16. <b> Total intl minutes: </b> How much the customer have talked over phone internationally.\n",
        "17. <b> Total intl calls: </b> How many calls the customer have made over phone internationally.\n",
        "18. <b> Total intl charge: </b> How much money was charged to the customer for international calls.\n",
        "19. <b> Customer service calls: </b> How many service calls were made to the customer.\n",
        "20. <b> Churn: </b> A binary identifier to whether the customer has churned or not."
      ]
    },
    {
      "cell_type": "markdown",
      "metadata": {
        "id": "ipJ_h1CzkmGZ"
      },
      "source": [
        "# <b> Approach </b>\n",
        "Before proceeding to the main analysis part, let us discuss how we are going to approach the given problem.\n",
        "\n",
        "#### <b> 1. Data Cleaning: </b>\n",
        "##### The first and most crucial task for analysing a data is to clean it first. A messy data can give messy outputs. As we are not currently feeding the data to any ML model, we shall only check on null values and unrealistic values. We shall make a conclusion about outliers while doing the analysis.\n",
        "#### <b> 2. Univariate Analysis: </b>\n",
        "##### We shall make some plots and try to conclude about each possible variable individually.\n",
        "#### <b> 3. Bivariate Analysis: </b>\n",
        "##### We shall make some plots and try to conclude about pairs of variables. We can also assess relations between the Churn variable and other variables.\n",
        "#### <b> 4. Multivariate Analysis: </b>\n",
        "##### We shall make a correlation heatmap and try to make conclusions about magnitude of relationship between Churn and other variables."
      ]
    },
    {
      "cell_type": "code",
      "metadata": {
        "id": "e2Qp37hkndrG"
      },
      "source": [
        "# Importing essential libraries\n",
        "import numpy as np\n",
        "import pandas as pd\n",
        "import matplotlib.pyplot as plt\n",
        "import seaborn as sns"
      ],
      "execution_count": 1,
      "outputs": []
    },
    {
      "cell_type": "markdown",
      "metadata": {
        "id": "YONQbPC8m6QR"
      },
      "source": [
        "### <b> Reading the dataset and exploring it"
      ]
    },
    {
      "cell_type": "code",
      "metadata": {
        "colab": {
          "base_uri": "https://localhost:8080/"
        },
        "id": "ysKbEgianKtg",
        "outputId": "3127bd3f-418d-48b8-e87d-4b01f11a0481"
      },
      "source": [
        "# Mount the drive\n",
        "from google.colab import drive\n",
        "drive.mount('/content/drive')"
      ],
      "execution_count": 2,
      "outputs": [
        {
          "output_type": "stream",
          "name": "stdout",
          "text": [
            "Mounted at /content/drive\n"
          ]
        }
      ]
    },
    {
      "cell_type": "code",
      "metadata": {
        "id": "fDi3tCtSnPlt"
      },
      "source": [
        "# Read the dataset\n",
        "telecom_df = pd.read_csv('/content/drive/MyDrive/Colab Notebooks/Telecom Churn Analysis Notebook/Telecom Churn.csv')"
      ],
      "execution_count": 3,
      "outputs": []
    },
    {
      "cell_type": "code",
      "metadata": {
        "colab": {
          "base_uri": "https://localhost:8080/",
          "height": 254
        },
        "id": "8RtwYk-0oWtA",
        "outputId": "2b3f39e4-1978-475e-f21e-4f9685bae3f3"
      },
      "source": [
        "# Let's see how the data looks like\n",
        "telecom_df.head()"
      ],
      "execution_count": 4,
      "outputs": [
        {
          "output_type": "execute_result",
          "data": {
            "text/html": [
              "<div>\n",
              "<style scoped>\n",
              "    .dataframe tbody tr th:only-of-type {\n",
              "        vertical-align: middle;\n",
              "    }\n",
              "\n",
              "    .dataframe tbody tr th {\n",
              "        vertical-align: top;\n",
              "    }\n",
              "\n",
              "    .dataframe thead th {\n",
              "        text-align: right;\n",
              "    }\n",
              "</style>\n",
              "<table border=\"1\" class=\"dataframe\">\n",
              "  <thead>\n",
              "    <tr style=\"text-align: right;\">\n",
              "      <th></th>\n",
              "      <th>State</th>\n",
              "      <th>Account length</th>\n",
              "      <th>Area code</th>\n",
              "      <th>International plan</th>\n",
              "      <th>Voice mail plan</th>\n",
              "      <th>Number vmail messages</th>\n",
              "      <th>Total day minutes</th>\n",
              "      <th>Total day calls</th>\n",
              "      <th>Total day charge</th>\n",
              "      <th>Total eve minutes</th>\n",
              "      <th>Total eve calls</th>\n",
              "      <th>Total eve charge</th>\n",
              "      <th>Total night minutes</th>\n",
              "      <th>Total night calls</th>\n",
              "      <th>Total night charge</th>\n",
              "      <th>Total intl minutes</th>\n",
              "      <th>Total intl calls</th>\n",
              "      <th>Total intl charge</th>\n",
              "      <th>Customer service calls</th>\n",
              "      <th>Churn</th>\n",
              "    </tr>\n",
              "  </thead>\n",
              "  <tbody>\n",
              "    <tr>\n",
              "      <th>0</th>\n",
              "      <td>KS</td>\n",
              "      <td>128</td>\n",
              "      <td>415</td>\n",
              "      <td>No</td>\n",
              "      <td>Yes</td>\n",
              "      <td>25</td>\n",
              "      <td>265.1</td>\n",
              "      <td>110</td>\n",
              "      <td>45.07</td>\n",
              "      <td>197.4</td>\n",
              "      <td>99</td>\n",
              "      <td>16.78</td>\n",
              "      <td>244.7</td>\n",
              "      <td>91</td>\n",
              "      <td>11.01</td>\n",
              "      <td>10.0</td>\n",
              "      <td>3</td>\n",
              "      <td>2.70</td>\n",
              "      <td>1</td>\n",
              "      <td>False</td>\n",
              "    </tr>\n",
              "    <tr>\n",
              "      <th>1</th>\n",
              "      <td>OH</td>\n",
              "      <td>107</td>\n",
              "      <td>415</td>\n",
              "      <td>No</td>\n",
              "      <td>Yes</td>\n",
              "      <td>26</td>\n",
              "      <td>161.6</td>\n",
              "      <td>123</td>\n",
              "      <td>27.47</td>\n",
              "      <td>195.5</td>\n",
              "      <td>103</td>\n",
              "      <td>16.62</td>\n",
              "      <td>254.4</td>\n",
              "      <td>103</td>\n",
              "      <td>11.45</td>\n",
              "      <td>13.7</td>\n",
              "      <td>3</td>\n",
              "      <td>3.70</td>\n",
              "      <td>1</td>\n",
              "      <td>False</td>\n",
              "    </tr>\n",
              "    <tr>\n",
              "      <th>2</th>\n",
              "      <td>NJ</td>\n",
              "      <td>137</td>\n",
              "      <td>415</td>\n",
              "      <td>No</td>\n",
              "      <td>No</td>\n",
              "      <td>0</td>\n",
              "      <td>243.4</td>\n",
              "      <td>114</td>\n",
              "      <td>41.38</td>\n",
              "      <td>121.2</td>\n",
              "      <td>110</td>\n",
              "      <td>10.30</td>\n",
              "      <td>162.6</td>\n",
              "      <td>104</td>\n",
              "      <td>7.32</td>\n",
              "      <td>12.2</td>\n",
              "      <td>5</td>\n",
              "      <td>3.29</td>\n",
              "      <td>0</td>\n",
              "      <td>False</td>\n",
              "    </tr>\n",
              "    <tr>\n",
              "      <th>3</th>\n",
              "      <td>OH</td>\n",
              "      <td>84</td>\n",
              "      <td>408</td>\n",
              "      <td>Yes</td>\n",
              "      <td>No</td>\n",
              "      <td>0</td>\n",
              "      <td>299.4</td>\n",
              "      <td>71</td>\n",
              "      <td>50.90</td>\n",
              "      <td>61.9</td>\n",
              "      <td>88</td>\n",
              "      <td>5.26</td>\n",
              "      <td>196.9</td>\n",
              "      <td>89</td>\n",
              "      <td>8.86</td>\n",
              "      <td>6.6</td>\n",
              "      <td>7</td>\n",
              "      <td>1.78</td>\n",
              "      <td>2</td>\n",
              "      <td>False</td>\n",
              "    </tr>\n",
              "    <tr>\n",
              "      <th>4</th>\n",
              "      <td>OK</td>\n",
              "      <td>75</td>\n",
              "      <td>415</td>\n",
              "      <td>Yes</td>\n",
              "      <td>No</td>\n",
              "      <td>0</td>\n",
              "      <td>166.7</td>\n",
              "      <td>113</td>\n",
              "      <td>28.34</td>\n",
              "      <td>148.3</td>\n",
              "      <td>122</td>\n",
              "      <td>12.61</td>\n",
              "      <td>186.9</td>\n",
              "      <td>121</td>\n",
              "      <td>8.41</td>\n",
              "      <td>10.1</td>\n",
              "      <td>3</td>\n",
              "      <td>2.73</td>\n",
              "      <td>3</td>\n",
              "      <td>False</td>\n",
              "    </tr>\n",
              "  </tbody>\n",
              "</table>\n",
              "</div>"
            ],
            "text/plain": [
              "  State  Account length  ...  Customer service calls  Churn\n",
              "0    KS             128  ...                       1  False\n",
              "1    OH             107  ...                       1  False\n",
              "2    NJ             137  ...                       0  False\n",
              "3    OH              84  ...                       2  False\n",
              "4    OK              75  ...                       3  False\n",
              "\n",
              "[5 rows x 20 columns]"
            ]
          },
          "metadata": {},
          "execution_count": 4
        }
      ]
    },
    {
      "cell_type": "code",
      "metadata": {
        "colab": {
          "base_uri": "https://localhost:8080/",
          "height": 254
        },
        "id": "uBErViHMogic",
        "outputId": "b2977641-f775-48d1-8913-7258d2a6bdd9"
      },
      "source": [
        "telecom_df.tail()"
      ],
      "execution_count": 5,
      "outputs": [
        {
          "output_type": "execute_result",
          "data": {
            "text/html": [
              "<div>\n",
              "<style scoped>\n",
              "    .dataframe tbody tr th:only-of-type {\n",
              "        vertical-align: middle;\n",
              "    }\n",
              "\n",
              "    .dataframe tbody tr th {\n",
              "        vertical-align: top;\n",
              "    }\n",
              "\n",
              "    .dataframe thead th {\n",
              "        text-align: right;\n",
              "    }\n",
              "</style>\n",
              "<table border=\"1\" class=\"dataframe\">\n",
              "  <thead>\n",
              "    <tr style=\"text-align: right;\">\n",
              "      <th></th>\n",
              "      <th>State</th>\n",
              "      <th>Account length</th>\n",
              "      <th>Area code</th>\n",
              "      <th>International plan</th>\n",
              "      <th>Voice mail plan</th>\n",
              "      <th>Number vmail messages</th>\n",
              "      <th>Total day minutes</th>\n",
              "      <th>Total day calls</th>\n",
              "      <th>Total day charge</th>\n",
              "      <th>Total eve minutes</th>\n",
              "      <th>Total eve calls</th>\n",
              "      <th>Total eve charge</th>\n",
              "      <th>Total night minutes</th>\n",
              "      <th>Total night calls</th>\n",
              "      <th>Total night charge</th>\n",
              "      <th>Total intl minutes</th>\n",
              "      <th>Total intl calls</th>\n",
              "      <th>Total intl charge</th>\n",
              "      <th>Customer service calls</th>\n",
              "      <th>Churn</th>\n",
              "    </tr>\n",
              "  </thead>\n",
              "  <tbody>\n",
              "    <tr>\n",
              "      <th>3328</th>\n",
              "      <td>AZ</td>\n",
              "      <td>192</td>\n",
              "      <td>415</td>\n",
              "      <td>No</td>\n",
              "      <td>Yes</td>\n",
              "      <td>36</td>\n",
              "      <td>156.2</td>\n",
              "      <td>77</td>\n",
              "      <td>26.55</td>\n",
              "      <td>215.5</td>\n",
              "      <td>126</td>\n",
              "      <td>18.32</td>\n",
              "      <td>279.1</td>\n",
              "      <td>83</td>\n",
              "      <td>12.56</td>\n",
              "      <td>9.9</td>\n",
              "      <td>6</td>\n",
              "      <td>2.67</td>\n",
              "      <td>2</td>\n",
              "      <td>False</td>\n",
              "    </tr>\n",
              "    <tr>\n",
              "      <th>3329</th>\n",
              "      <td>WV</td>\n",
              "      <td>68</td>\n",
              "      <td>415</td>\n",
              "      <td>No</td>\n",
              "      <td>No</td>\n",
              "      <td>0</td>\n",
              "      <td>231.1</td>\n",
              "      <td>57</td>\n",
              "      <td>39.29</td>\n",
              "      <td>153.4</td>\n",
              "      <td>55</td>\n",
              "      <td>13.04</td>\n",
              "      <td>191.3</td>\n",
              "      <td>123</td>\n",
              "      <td>8.61</td>\n",
              "      <td>9.6</td>\n",
              "      <td>4</td>\n",
              "      <td>2.59</td>\n",
              "      <td>3</td>\n",
              "      <td>False</td>\n",
              "    </tr>\n",
              "    <tr>\n",
              "      <th>3330</th>\n",
              "      <td>RI</td>\n",
              "      <td>28</td>\n",
              "      <td>510</td>\n",
              "      <td>No</td>\n",
              "      <td>No</td>\n",
              "      <td>0</td>\n",
              "      <td>180.8</td>\n",
              "      <td>109</td>\n",
              "      <td>30.74</td>\n",
              "      <td>288.8</td>\n",
              "      <td>58</td>\n",
              "      <td>24.55</td>\n",
              "      <td>191.9</td>\n",
              "      <td>91</td>\n",
              "      <td>8.64</td>\n",
              "      <td>14.1</td>\n",
              "      <td>6</td>\n",
              "      <td>3.81</td>\n",
              "      <td>2</td>\n",
              "      <td>False</td>\n",
              "    </tr>\n",
              "    <tr>\n",
              "      <th>3331</th>\n",
              "      <td>CT</td>\n",
              "      <td>184</td>\n",
              "      <td>510</td>\n",
              "      <td>Yes</td>\n",
              "      <td>No</td>\n",
              "      <td>0</td>\n",
              "      <td>213.8</td>\n",
              "      <td>105</td>\n",
              "      <td>36.35</td>\n",
              "      <td>159.6</td>\n",
              "      <td>84</td>\n",
              "      <td>13.57</td>\n",
              "      <td>139.2</td>\n",
              "      <td>137</td>\n",
              "      <td>6.26</td>\n",
              "      <td>5.0</td>\n",
              "      <td>10</td>\n",
              "      <td>1.35</td>\n",
              "      <td>2</td>\n",
              "      <td>False</td>\n",
              "    </tr>\n",
              "    <tr>\n",
              "      <th>3332</th>\n",
              "      <td>TN</td>\n",
              "      <td>74</td>\n",
              "      <td>415</td>\n",
              "      <td>No</td>\n",
              "      <td>Yes</td>\n",
              "      <td>25</td>\n",
              "      <td>234.4</td>\n",
              "      <td>113</td>\n",
              "      <td>39.85</td>\n",
              "      <td>265.9</td>\n",
              "      <td>82</td>\n",
              "      <td>22.60</td>\n",
              "      <td>241.4</td>\n",
              "      <td>77</td>\n",
              "      <td>10.86</td>\n",
              "      <td>13.7</td>\n",
              "      <td>4</td>\n",
              "      <td>3.70</td>\n",
              "      <td>0</td>\n",
              "      <td>False</td>\n",
              "    </tr>\n",
              "  </tbody>\n",
              "</table>\n",
              "</div>"
            ],
            "text/plain": [
              "     State  Account length  ...  Customer service calls  Churn\n",
              "3328    AZ             192  ...                       2  False\n",
              "3329    WV              68  ...                       3  False\n",
              "3330    RI              28  ...                       2  False\n",
              "3331    CT             184  ...                       2  False\n",
              "3332    TN              74  ...                       0  False\n",
              "\n",
              "[5 rows x 20 columns]"
            ]
          },
          "metadata": {},
          "execution_count": 5
        }
      ]
    },
    {
      "cell_type": "code",
      "metadata": {
        "colab": {
          "base_uri": "https://localhost:8080/"
        },
        "id": "vqgiZKA2ojBk",
        "outputId": "57d7791a-1442-47a3-a1f9-7058d139e09d"
      },
      "source": [
        "telecom_df.shape"
      ],
      "execution_count": 6,
      "outputs": [
        {
          "output_type": "execute_result",
          "data": {
            "text/plain": [
              "(3333, 20)"
            ]
          },
          "metadata": {},
          "execution_count": 6
        }
      ]
    },
    {
      "cell_type": "code",
      "metadata": {
        "colab": {
          "base_uri": "https://localhost:8080/"
        },
        "id": "6cCzwGCHol2Q",
        "outputId": "68c06c43-1db9-4800-dcb1-cb9bebb9c012"
      },
      "source": [
        "telecom_df.info()"
      ],
      "execution_count": 7,
      "outputs": [
        {
          "output_type": "stream",
          "name": "stdout",
          "text": [
            "<class 'pandas.core.frame.DataFrame'>\n",
            "RangeIndex: 3333 entries, 0 to 3332\n",
            "Data columns (total 20 columns):\n",
            " #   Column                  Non-Null Count  Dtype  \n",
            "---  ------                  --------------  -----  \n",
            " 0   State                   3333 non-null   object \n",
            " 1   Account length          3333 non-null   int64  \n",
            " 2   Area code               3333 non-null   int64  \n",
            " 3   International plan      3333 non-null   object \n",
            " 4   Voice mail plan         3333 non-null   object \n",
            " 5   Number vmail messages   3333 non-null   int64  \n",
            " 6   Total day minutes       3333 non-null   float64\n",
            " 7   Total day calls         3333 non-null   int64  \n",
            " 8   Total day charge        3333 non-null   float64\n",
            " 9   Total eve minutes       3333 non-null   float64\n",
            " 10  Total eve calls         3333 non-null   int64  \n",
            " 11  Total eve charge        3333 non-null   float64\n",
            " 12  Total night minutes     3333 non-null   float64\n",
            " 13  Total night calls       3333 non-null   int64  \n",
            " 14  Total night charge      3333 non-null   float64\n",
            " 15  Total intl minutes      3333 non-null   float64\n",
            " 16  Total intl calls        3333 non-null   int64  \n",
            " 17  Total intl charge       3333 non-null   float64\n",
            " 18  Customer service calls  3333 non-null   int64  \n",
            " 19  Churn                   3333 non-null   bool   \n",
            "dtypes: bool(1), float64(8), int64(8), object(3)\n",
            "memory usage: 498.1+ KB\n"
          ]
        }
      ]
    },
    {
      "cell_type": "code",
      "metadata": {
        "colab": {
          "base_uri": "https://localhost:8080/",
          "height": 346
        },
        "id": "9TomtImBos18",
        "outputId": "ab302888-c8fb-4a0e-ccad-1f005b6a9609"
      },
      "source": [
        "telecom_df.describe()"
      ],
      "execution_count": 8,
      "outputs": [
        {
          "output_type": "execute_result",
          "data": {
            "text/html": [
              "<div>\n",
              "<style scoped>\n",
              "    .dataframe tbody tr th:only-of-type {\n",
              "        vertical-align: middle;\n",
              "    }\n",
              "\n",
              "    .dataframe tbody tr th {\n",
              "        vertical-align: top;\n",
              "    }\n",
              "\n",
              "    .dataframe thead th {\n",
              "        text-align: right;\n",
              "    }\n",
              "</style>\n",
              "<table border=\"1\" class=\"dataframe\">\n",
              "  <thead>\n",
              "    <tr style=\"text-align: right;\">\n",
              "      <th></th>\n",
              "      <th>Account length</th>\n",
              "      <th>Area code</th>\n",
              "      <th>Number vmail messages</th>\n",
              "      <th>Total day minutes</th>\n",
              "      <th>Total day calls</th>\n",
              "      <th>Total day charge</th>\n",
              "      <th>Total eve minutes</th>\n",
              "      <th>Total eve calls</th>\n",
              "      <th>Total eve charge</th>\n",
              "      <th>Total night minutes</th>\n",
              "      <th>Total night calls</th>\n",
              "      <th>Total night charge</th>\n",
              "      <th>Total intl minutes</th>\n",
              "      <th>Total intl calls</th>\n",
              "      <th>Total intl charge</th>\n",
              "      <th>Customer service calls</th>\n",
              "    </tr>\n",
              "  </thead>\n",
              "  <tbody>\n",
              "    <tr>\n",
              "      <th>count</th>\n",
              "      <td>3333.000000</td>\n",
              "      <td>3333.000000</td>\n",
              "      <td>3333.000000</td>\n",
              "      <td>3333.000000</td>\n",
              "      <td>3333.000000</td>\n",
              "      <td>3333.000000</td>\n",
              "      <td>3333.000000</td>\n",
              "      <td>3333.000000</td>\n",
              "      <td>3333.000000</td>\n",
              "      <td>3333.000000</td>\n",
              "      <td>3333.000000</td>\n",
              "      <td>3333.000000</td>\n",
              "      <td>3333.000000</td>\n",
              "      <td>3333.000000</td>\n",
              "      <td>3333.000000</td>\n",
              "      <td>3333.000000</td>\n",
              "    </tr>\n",
              "    <tr>\n",
              "      <th>mean</th>\n",
              "      <td>101.064806</td>\n",
              "      <td>437.182418</td>\n",
              "      <td>8.099010</td>\n",
              "      <td>179.775098</td>\n",
              "      <td>100.435644</td>\n",
              "      <td>30.562307</td>\n",
              "      <td>200.980348</td>\n",
              "      <td>100.114311</td>\n",
              "      <td>17.083540</td>\n",
              "      <td>200.872037</td>\n",
              "      <td>100.107711</td>\n",
              "      <td>9.039325</td>\n",
              "      <td>10.237294</td>\n",
              "      <td>4.479448</td>\n",
              "      <td>2.764581</td>\n",
              "      <td>1.562856</td>\n",
              "    </tr>\n",
              "    <tr>\n",
              "      <th>std</th>\n",
              "      <td>39.822106</td>\n",
              "      <td>42.371290</td>\n",
              "      <td>13.688365</td>\n",
              "      <td>54.467389</td>\n",
              "      <td>20.069084</td>\n",
              "      <td>9.259435</td>\n",
              "      <td>50.713844</td>\n",
              "      <td>19.922625</td>\n",
              "      <td>4.310668</td>\n",
              "      <td>50.573847</td>\n",
              "      <td>19.568609</td>\n",
              "      <td>2.275873</td>\n",
              "      <td>2.791840</td>\n",
              "      <td>2.461214</td>\n",
              "      <td>0.753773</td>\n",
              "      <td>1.315491</td>\n",
              "    </tr>\n",
              "    <tr>\n",
              "      <th>min</th>\n",
              "      <td>1.000000</td>\n",
              "      <td>408.000000</td>\n",
              "      <td>0.000000</td>\n",
              "      <td>0.000000</td>\n",
              "      <td>0.000000</td>\n",
              "      <td>0.000000</td>\n",
              "      <td>0.000000</td>\n",
              "      <td>0.000000</td>\n",
              "      <td>0.000000</td>\n",
              "      <td>23.200000</td>\n",
              "      <td>33.000000</td>\n",
              "      <td>1.040000</td>\n",
              "      <td>0.000000</td>\n",
              "      <td>0.000000</td>\n",
              "      <td>0.000000</td>\n",
              "      <td>0.000000</td>\n",
              "    </tr>\n",
              "    <tr>\n",
              "      <th>25%</th>\n",
              "      <td>74.000000</td>\n",
              "      <td>408.000000</td>\n",
              "      <td>0.000000</td>\n",
              "      <td>143.700000</td>\n",
              "      <td>87.000000</td>\n",
              "      <td>24.430000</td>\n",
              "      <td>166.600000</td>\n",
              "      <td>87.000000</td>\n",
              "      <td>14.160000</td>\n",
              "      <td>167.000000</td>\n",
              "      <td>87.000000</td>\n",
              "      <td>7.520000</td>\n",
              "      <td>8.500000</td>\n",
              "      <td>3.000000</td>\n",
              "      <td>2.300000</td>\n",
              "      <td>1.000000</td>\n",
              "    </tr>\n",
              "    <tr>\n",
              "      <th>50%</th>\n",
              "      <td>101.000000</td>\n",
              "      <td>415.000000</td>\n",
              "      <td>0.000000</td>\n",
              "      <td>179.400000</td>\n",
              "      <td>101.000000</td>\n",
              "      <td>30.500000</td>\n",
              "      <td>201.400000</td>\n",
              "      <td>100.000000</td>\n",
              "      <td>17.120000</td>\n",
              "      <td>201.200000</td>\n",
              "      <td>100.000000</td>\n",
              "      <td>9.050000</td>\n",
              "      <td>10.300000</td>\n",
              "      <td>4.000000</td>\n",
              "      <td>2.780000</td>\n",
              "      <td>1.000000</td>\n",
              "    </tr>\n",
              "    <tr>\n",
              "      <th>75%</th>\n",
              "      <td>127.000000</td>\n",
              "      <td>510.000000</td>\n",
              "      <td>20.000000</td>\n",
              "      <td>216.400000</td>\n",
              "      <td>114.000000</td>\n",
              "      <td>36.790000</td>\n",
              "      <td>235.300000</td>\n",
              "      <td>114.000000</td>\n",
              "      <td>20.000000</td>\n",
              "      <td>235.300000</td>\n",
              "      <td>113.000000</td>\n",
              "      <td>10.590000</td>\n",
              "      <td>12.100000</td>\n",
              "      <td>6.000000</td>\n",
              "      <td>3.270000</td>\n",
              "      <td>2.000000</td>\n",
              "    </tr>\n",
              "    <tr>\n",
              "      <th>max</th>\n",
              "      <td>243.000000</td>\n",
              "      <td>510.000000</td>\n",
              "      <td>51.000000</td>\n",
              "      <td>350.800000</td>\n",
              "      <td>165.000000</td>\n",
              "      <td>59.640000</td>\n",
              "      <td>363.700000</td>\n",
              "      <td>170.000000</td>\n",
              "      <td>30.910000</td>\n",
              "      <td>395.000000</td>\n",
              "      <td>175.000000</td>\n",
              "      <td>17.770000</td>\n",
              "      <td>20.000000</td>\n",
              "      <td>20.000000</td>\n",
              "      <td>5.400000</td>\n",
              "      <td>9.000000</td>\n",
              "    </tr>\n",
              "  </tbody>\n",
              "</table>\n",
              "</div>"
            ],
            "text/plain": [
              "       Account length    Area code  ...  Total intl charge  Customer service calls\n",
              "count     3333.000000  3333.000000  ...        3333.000000             3333.000000\n",
              "mean       101.064806   437.182418  ...           2.764581                1.562856\n",
              "std         39.822106    42.371290  ...           0.753773                1.315491\n",
              "min          1.000000   408.000000  ...           0.000000                0.000000\n",
              "25%         74.000000   408.000000  ...           2.300000                1.000000\n",
              "50%        101.000000   415.000000  ...           2.780000                1.000000\n",
              "75%        127.000000   510.000000  ...           3.270000                2.000000\n",
              "max        243.000000   510.000000  ...           5.400000                9.000000\n",
              "\n",
              "[8 rows x 16 columns]"
            ]
          },
          "metadata": {},
          "execution_count": 8
        }
      ]
    },
    {
      "cell_type": "markdown",
      "metadata": {
        "id": "V8w1a7E7o4WH"
      },
      "source": [
        "### <b>1. Data Cleaning: </b>\n",
        "##### While exploring the data, we saw that our dataframe has 3333 observations and all the columns have 3333 non-null values. Hence we are free of any headache to deal with the demonic nulls!\n",
        "##### Now again, with the describe() method, we saw that the numerical columns have no unrealistic values!\n",
        "##### It seems that the data is a very good boy and showed some mercy to us by lessening our work! Now it's time to bind the data in chairs and beat it until it spits out some information to us.\n",
        "##### Sorry data! Being a good boy doesn't always help!"
      ]
    },
    {
      "cell_type": "markdown",
      "metadata": {
        "id": "CSRXvVAkhCB-"
      },
      "source": [
        "### <b>2. Univariate Analysis: </b>\n",
        "##### Now it's time to take our first step towards understanding the data. Let's see what it had been hiding from us! We shall form each chunk with these parts : Question, Analysis, Conclusion."
      ]
    },
    {
      "cell_type": "markdown",
      "metadata": {
        "id": "elOwejg8heba"
      },
      "source": [
        "\n",
        "#### <b> Question:\n",
        "##### <b> How are the customers distributed throughout states?"
      ]
    },
    {
      "cell_type": "markdown",
      "metadata": {
        "id": "5IK_T-YniBTp"
      },
      "source": [
        "#### <b> Analysis:"
      ]
    },
    {
      "cell_type": "code",
      "metadata": {
        "colab": {
          "base_uri": "https://localhost:8080/",
          "height": 224
        },
        "id": "lK43moOVh6RR",
        "outputId": "f056797f-e780-4d33-a8a5-a93b0cabb0a4"
      },
      "source": [
        "plt.rcParams['figure.figsize'] = (20,10)\n",
        "\n",
        "telecom_df['State'].value_counts().plot(kind = 'bar')\n",
        "plt.title('Customers in different states', size = 20)\n",
        "plt.xlabel('State', size = 13)\n",
        "plt.ylabel('Number of Customers', size = 13)"
      ],
      "execution_count": 9,
      "outputs": [
        {
          "output_type": "execute_result",
          "data": {
            "text/plain": [
              "Text(0, 0.5, 'Number of Customers')"
            ]
          },
          "metadata": {},
          "execution_count": 9
        },
        {
          "output_type": "display_data",
          "data": {
            "image/png": "[encoded data removed]",
            "text/plain": [
              "<Figure size 1440x720 with 1 Axes>"
            ]
          },
          "metadata": {
            "needs_background": "light"
          }
        }
      ]
    },
    {
      "cell_type": "markdown",
      "metadata": {
        "id": "dpVOQ5zwnk8j"
      },
      "source": [
        "#### <b> Conclusion: </b>\n",
        "1. WV has highest number of customers and CA has lowest number of customers.\n",
        "2. Except for WV, PA, IA, CA, the other states don't deviate so much in case of having customers."
      ]
    },
    {
      "cell_type": "markdown",
      "metadata": {
        "id": "hu-h33hsoUWi"
      },
      "source": [
        "#### <b> Question:\n",
        "##### <b> How Account Length of customers is distributed?"
      ]
    },
    {
      "cell_type": "markdown",
      "metadata": {
        "id": "PokEAdNGodMF"
      },
      "source": [
        "#### <b> Analysis:"
      ]
    },
    {
      "cell_type": "code",
      "metadata": {
        "colab": {
          "base_uri": "https://localhost:8080/",
          "height": 282
        },
        "id": "STL8dyymoel0",
        "outputId": "0e550586-762e-424b-fc8c-29408eaa14f8"
      },
      "source": [
        "plt.rcParams['figure.figsize'] = (10,5)\n",
        "sns.distplot(telecom_df['Account length'], hist = True)\n",
        "plt.title('Distribution of Account Length')"
      ],
      "execution_count": 10,
      "outputs": [
        {
          "output_type": "stream",
          "name": "stderr",
          "text": [
            "/usr/local/lib/python3.7/dist-packages/seaborn/distributions.py:2619: FutureWarning: `distplot` is a deprecated function and will be removed in a future version. Please adapt your code to use either `displot` (a figure-level function with similar flexibility) or `histplot` (an axes-level function for histograms).\n",
            "  warnings.warn(msg, FutureWarning)\n"
          ]
        },
        {
          "output_type": "execute_result",
          "data": {
            "text/plain": [
              "Text(0.5, 1.0, 'Distribution of Account Length')"
            ]
          },
          "metadata": {},
          "execution_count": 10
        },
        {
          "output_type": "display_data",
          "data": {
            "image/png": "[encoded data removed]",
            "text/plain": [
              "<Figure size 720x360 with 1 Axes>"
            ]
          },
          "metadata": {
            "needs_background": "light"
          }
        }
      ]
    },
    {
      "cell_type": "markdown",
      "metadata": {
        "id": "XI3hANiJo6kV"
      },
      "source": [
        "#### <b> Conclusion: </b>\n",
        "1. Account length of customers have an almost Normal Distribution."
      ]
    },
    {
      "cell_type": "markdown",
      "metadata": {
        "id": "jebuMd4epVRK"
      },
      "source": [
        "#### <b> Question:\n",
        "##### <b> How the customer distribution is in different areas?"
      ]
    },
    {
      "cell_type": "markdown",
      "metadata": {
        "id": "YdH_weRapkLN"
      },
      "source": [
        "#### <b> Analysis:"
      ]
    },
    {
      "cell_type": "code",
      "metadata": {
        "colab": {
          "base_uri": "https://localhost:8080/",
          "height": 234
        },
        "id": "GLZV2eGlplIk",
        "outputId": "c582a643-366e-48b0-c90c-70c5f9173e82"
      },
      "source": [
        "plt.rcParams['figure.figsize'] = (10,5)\n",
        "\n",
        "telecom_df['Area code'].value_counts().plot(kind = 'bar')\n",
        "plt.title('Customers in different areas')\n",
        "plt.xlabel('Area Code')\n",
        "plt.ylabel('Number of Customers')"
      ],
      "execution_count": 11,
      "outputs": [
        {
          "output_type": "execute_result",
          "data": {
            "text/plain": [
              "Text(0, 0.5, 'Number of Customers')"
            ]
          },
          "metadata": {},
          "execution_count": 11
        },
        {
          "output_type": "display_data",
          "data": {
            "image/png": "[encoded data removed]",
            "text/plain": [
              "<Figure size 720x360 with 1 Axes>"
            ]
          },
          "metadata": {
            "needs_background": "light"
          }
        }
      ]
    },
    {
      "cell_type": "markdown",
      "metadata": {
        "id": "3hjWMhlwqvuR"
      },
      "source": [
        "#### <b> Conclusion: </b>\n",
        "1. The area with code 415 has most number of customers.\n",
        "2. The areas with codes 408 and 510 have almost half number of customers than the area 415."
      ]
    },
    {
      "cell_type": "markdown",
      "metadata": {
        "id": "qBWpQ3Snr4mG"
      },
      "source": [
        "#### <b> Question:\n",
        "##### <b> How the customers are opting for international plan and voice plan?"
      ]
    },
    {
      "cell_type": "markdown",
      "metadata": {
        "id": "4enDkxppsBG8"
      },
      "source": [
        "#### <b> Analysis:"
      ]
    },
    {
      "cell_type": "code",
      "metadata": {
        "colab": {
          "base_uri": "https://localhost:8080/",
          "height": 216
        },
        "id": "-n3LgkzPsB_j",
        "outputId": "f4612367-02a7-425a-e644-6bbdb2c9da1f"
      },
      "source": [
        "plt.figure(figsize = (15,8))\n",
        "plt.subplot(1,2,1)\n",
        "sns.countplot(data = telecom_df, x = 'International plan', palette=['r', 'g'])\n",
        "plt.title('Customers opting for International plan')\n",
        "plt.ylabel('Number of Customers')\n",
        "\n",
        "plt.subplot(1,2,2)\n",
        "sns.countplot(data = telecom_df, x = 'Voice mail plan', palette=['g', 'r'])\n",
        "plt.title('Customers opting for Voice mail plan')\n",
        "plt.ylabel('Number of Customers')\n",
        "\n",
        "plt.show()"
      ],
      "execution_count": 12,
      "outputs": [
        {
          "output_type": "display_data",
          "data": {
            "image/png": "[encoded data removed]",
            "text/plain": [
              "<Figure size 1080x576 with 2 Axes>"
            ]
          },
          "metadata": {
            "needs_background": "light"
          }
        }
      ]
    },
    {
      "cell_type": "markdown",
      "metadata": {
        "id": "JMRbVcVeunGS"
      },
      "source": [
        "#### <b> Conclusion: </b>\n",
        "1. More people didn't choose to recharge with International or Voice mail plans.\n",
        "2. But in case of Voice mail plan, the ratio between Yes and No is a bit higher."
      ]
    },
    {
      "cell_type": "markdown",
      "metadata": {
        "id": "_8LivQkDvZeE"
      },
      "source": [
        "#### <b> Question:\n",
        "##### <b> How many calls are being made during different times of a day?"
      ]
    },
    {
      "cell_type": "markdown",
      "metadata": {
        "id": "1UwDPZE7vory"
      },
      "source": [
        "#### <b> Analysis:"
      ]
    },
    {
      "cell_type": "code",
      "metadata": {
        "colab": {
          "base_uri": "https://localhost:8080/",
          "height": 300
        },
        "id": "rk2cuxV8vpX_",
        "outputId": "44998e1c-24d7-46fd-af87-90530a9f3582"
      },
      "source": [
        "plt.figure(figsize = (18,15))\n",
        "plt.subplot(1,3,1)\n",
        "sns.boxplot(data = telecom_df, y = 'Total day calls', color = '#00FFFF')\n",
        "plt.ylabel('Total Day Calls', fontsize = 15)\n",
        "\n",
        "plt.subplot(1,3,2)\n",
        "sns.boxplot(data = telecom_df, y = 'Total eve calls', color = '#006A4E')\n",
        "plt.ylabel('Total Eve Calls', fontsize = 15)\n",
        "\n",
        "plt.subplot(1,3,3)\n",
        "sns.boxplot(data = telecom_df, y = 'Total night calls', color = '#B2BEB5')\n",
        "plt.ylabel('Total Night Calls', fontsize = 15)\n",
        "\n",
        "plt.show()"
      ],
      "execution_count": 13,
      "outputs": [
        {
          "output_type": "display_data",
          "data": {
            "image/png": "[encoded data removed]",
            "text/plain": [
              "<Figure size 1296x1080 with 3 Axes>"
            ]
          },
          "metadata": {
            "needs_background": "light"
          }
        }
      ]
    },
    {
      "cell_type": "markdown",
      "metadata": {
        "id": "uBAFJk1twAm9"
      },
      "source": [
        "#### <b> Conclusion: </b>\n",
        "1. Most calls were made during daytime and least calls were made in the night.\n",
        "2. There are few too small outlier points in Total Day Calls and Total Eve Calls and a large outlier point in Total Night Calls which need to be removed before feeding the data into an ML algorithm."
      ]
    },
    {
      "cell_type": "markdown",
      "metadata": {
        "id": "VEv4QNemxTUg"
      },
      "source": [
        "#### <b> Question:\n",
        "##### <b> How much customers are talking during different times of a day?"
      ]
    },
    {
      "cell_type": "markdown",
      "metadata": {
        "id": "zz1CsL2mzIwu"
      },
      "source": [
        "#### <b> Analysis:"
      ]
    },
    {
      "cell_type": "code",
      "metadata": {
        "colab": {
          "base_uri": "https://localhost:8080/",
          "height": 300
        },
        "id": "N4SS1YRNxc9v",
        "outputId": "77ddd619-5e02-4bde-b3b1-49ba2d1962d3"
      },
      "source": [
        "plt.figure(figsize = (18,15))\n",
        "plt.subplot(1,3,1)\n",
        "sns.boxplot(data = telecom_df, y = 'Total day minutes', color = '#00FFFF')\n",
        "plt.ylabel('Total Day Minutes', fontsize = 15)\n",
        "\n",
        "plt.subplot(1,3,2)\n",
        "sns.boxplot(data = telecom_df, y = 'Total eve minutes', color = '#006A4E')\n",
        "plt.ylabel('Total Eve Minutes', fontsize = 15)\n",
        "\n",
        "plt.subplot(1,3,3)\n",
        "sns.boxplot(data = telecom_df, y = 'Total night minutes', color = '#B2BEB5')\n",
        "plt.ylabel('Total Night Minutes', fontsize = 15)\n",
        "\n",
        "plt.show()"
      ],
      "execution_count": 14,
      "outputs": [
        {
          "output_type": "display_data",
          "data": {
            "image/png": "[encoded data removed]",
            "text/plain": [
              "<Figure size 1296x1080 with 3 Axes>"
            ]
          },
          "metadata": {
            "needs_background": "light"
          }
        }
      ]
    },
    {
      "cell_type": "markdown",
      "metadata": {
        "id": "Ty4SySB6yH5M"
      },
      "source": [
        "#### <b> Conclusion: </b>\n",
        "1. Customers talked more during evening and less during night.\n",
        "2. Despite the fact that most calls were made during the daytime, customers did not spend much time talking over phone.\n",
        "3. Some outlier treatment is necessary for the extreme points in Total Eve Minutes and Total Night Minutes."
      ]
    },
    {
      "cell_type": "markdown",
      "metadata": {
        "id": "s0rhffZezDF3"
      },
      "source": [
        "#### <b> Question:\n",
        "##### <b> How much customers are paying during different times of a day?"
      ]
    },
    {
      "cell_type": "markdown",
      "metadata": {
        "id": "Hn60WcMrzKK6"
      },
      "source": [
        "#### <b> Analysis:"
      ]
    },
    {
      "cell_type": "code",
      "metadata": {
        "colab": {
          "base_uri": "https://localhost:8080/",
          "height": 301
        },
        "id": "zeXhomCfzNpd",
        "outputId": "df0aed0d-55b5-4335-c29e-a27df239b19f"
      },
      "source": [
        "plt.figure(figsize = (18,15))\n",
        "plt.subplot(1,3,1)\n",
        "sns.boxplot(data = telecom_df, y = 'Total day charge', color = '#00FFFF')\n",
        "plt.ylabel('Total Day Charges', fontsize = 15)\n",
        "\n",
        "plt.subplot(1,3,2)\n",
        "sns.boxplot(data = telecom_df, y = 'Total eve charge', color = '#006A4E')\n",
        "plt.ylabel('Total Eve Charges', fontsize = 15)\n",
        "\n",
        "plt.subplot(1,3,3)\n",
        "sns.boxplot(data = telecom_df, y = 'Total night charge', color = '#B2BEB5')\n",
        "plt.ylabel('Total Night Charges', fontsize = 15)\n",
        "\n",
        "plt.show()"
      ],
      "execution_count": 15,
      "outputs": [
        {
          "output_type": "display_data",
          "data": {
            "image/png": "[encoded data removed]",
            "text/plain": [
              "<Figure size 1296x1080 with 3 Axes>"
            ]
          },
          "metadata": {
            "needs_background": "light"
          }
        }
      ]
    },
    {
      "cell_type": "markdown",
      "metadata": {
        "id": "5A1gbtRfzldo"
      },
      "source": [
        "#### <b> Conclusion: </b>\n",
        "1. The charges are maximum in the evening time and lowest in the night time.\n",
        "2. These plots are in conjunction with the minutes spoken."
      ]
    },
    {
      "cell_type": "markdown",
      "metadata": {
        "id": "0FJhNcW20vE6"
      },
      "source": [
        "#### <b> Question:\n",
        "##### <b> What can we say about the customers opting for International plan?"
      ]
    },
    {
      "cell_type": "markdown",
      "metadata": {
        "id": "1C46LlUq0vtP"
      },
      "source": [
        "#### <b> Analysis:"
      ]
    },
    {
      "cell_type": "code",
      "metadata": {
        "colab": {
          "base_uri": "https://localhost:8080/",
          "height": 299
        },
        "id": "xaFJtGyb0v70",
        "outputId": "17b96149-5f88-4378-bc83-8e5a030979f7"
      },
      "source": [
        "plt.figure(figsize = (18,15))\n",
        "plt.subplot(1,3,1)\n",
        "sns.boxplot(data = telecom_df, y = 'Total intl calls', color = '#00FFFF')\n",
        "plt.ylabel('Total International Calls', fontsize = 15)\n",
        "\n",
        "plt.subplot(1,3,2)\n",
        "sns.boxplot(data = telecom_df, y = 'Total intl minutes', color = '#006A4E')\n",
        "plt.ylabel('Total International Minutes', fontsize = 15)\n",
        "\n",
        "plt.subplot(1,3,3)\n",
        "sns.boxplot(data = telecom_df, y = 'Total intl charge', color = '#B2BEB5')\n",
        "plt.ylabel('Total International Charges', fontsize = 15)\n",
        "\n",
        "plt.show()"
      ],
      "execution_count": 16,
      "outputs": [
        {
          "output_type": "display_data",
          "data": {
            "image/png": "[encoded data removed]",
            "text/plain": [
              "<Figure size 1296x1080 with 3 Axes>"
            ]
          },
          "metadata": {
            "needs_background": "light"
          }
        }
      ]
    },
    {
      "cell_type": "markdown",
      "metadata": {
        "id": "qTMU4ThL1Nne"
      },
      "source": [
        "#### <b> Conclusion: </b>\n",
        "1. Number of International calls is not well distributed.\n",
        "2. Range of all three metrics are much lesser than domestic day, eve and night calls."
      ]
    },
    {
      "cell_type": "markdown",
      "metadata": {
        "id": "oBO4K3vMFlDE"
      },
      "source": [
        "#### <b> Question:\n",
        "##### <b> What can we say about customer service calls made?"
      ]
    },
    {
      "cell_type": "markdown",
      "metadata": {
        "id": "rN8vYjbfFugV"
      },
      "source": [
        "#### <b> Analysis:"
      ]
    },
    {
      "cell_type": "code",
      "metadata": {
        "colab": {
          "base_uri": "https://localhost:8080/",
          "height": 233
        },
        "id": "i85xSet8FvOC",
        "outputId": "9d0c0564-eba0-4e46-d255-4380099786e7"
      },
      "source": [
        "telecom_df['Customer service calls'].value_counts().plot(kind='bar')"
      ],
      "execution_count": 51,
      "outputs": [
        {
          "output_type": "execute_result",
          "data": {
            "text/plain": [
              "<matplotlib.axes._subplots.AxesSubplot at 0x7f9fd92e58d0>"
            ]
          },
          "metadata": {},
          "execution_count": 51
        },
        {
          "output_type": "display_data",
          "data": {
            "image/png": "[encoded data removed]",
            "text/plain": [
              "<Figure size 720x360 with 1 Axes>"
            ]
          },
          "metadata": {
            "needs_background": "light"
          }
        }
      ]
    },
    {
      "cell_type": "markdown",
      "metadata": {
        "id": "PnIDeS5IGIOc"
      },
      "source": [
        "#### <b> Conclusion: </b>\n",
        "1. Probability of making more than 5 service calls is minuscule."
      ]
    },
    {
      "cell_type": "markdown",
      "metadata": {
        "id": "A9-xDMon1uGS"
      },
      "source": [
        "#### <b> Question:\n",
        "##### <b> What about the main hero, Churn?"
      ]
    },
    {
      "cell_type": "markdown",
      "metadata": {
        "id": "nNpRdh7u136y"
      },
      "source": [
        "#### <b> Analysis:"
      ]
    },
    {
      "cell_type": "code",
      "metadata": {
        "colab": {
          "base_uri": "https://localhost:8080/",
          "height": 202
        },
        "id": "_x1WiSs615MS",
        "outputId": "6b22a0f6-5738-48f1-ac89-92b2b6fd4611"
      },
      "source": [
        "plt.figure(figsize = (10,5))\n",
        "sns.countplot(data = telecom_df, x = 'Churn', palette = ['g', 'r'])\n",
        "plt.show()"
      ],
      "execution_count": 17,
      "outputs": [
        {
          "output_type": "display_data",
          "data": {
            "image/png": "[encoded data removed]",
            "text/plain": [
              "<Figure size 720x360 with 1 Axes>"
            ]
          },
          "metadata": {
            "needs_background": "light"
          }
        }
      ]
    },
    {
      "cell_type": "code",
      "metadata": {
        "colab": {
          "base_uri": "https://localhost:8080/"
        },
        "id": "Z-9ugZB32JXI",
        "outputId": "14fe3c43-26be-4765-d01b-65415fc8e344"
      },
      "source": [
        "round(len(telecom_df[telecom_df['Churn'] == True]) / 3333 * 100, 2)"
      ],
      "execution_count": 18,
      "outputs": [
        {
          "output_type": "execute_result",
          "data": {
            "text/plain": [
              "14.49"
            ]
          },
          "metadata": {},
          "execution_count": 18
        }
      ]
    },
    {
      "cell_type": "markdown",
      "metadata": {
        "id": "tKGdo_Au2830"
      },
      "source": [
        "#### <b> Conclusion: </b>\n",
        "1. Almost 14.49% of total customers have left the service."
      ]
    },
    {
      "cell_type": "markdown",
      "metadata": {
        "id": "VziZeKEWldey"
      },
      "source": [
        "### <b>3. Bivariate Analysis: </b>\n",
        "##### Now as we know about those individual columns, let's try to find out some interrelationships between them especially with Churn."
      ]
    },
    {
      "cell_type": "markdown",
      "metadata": {
        "id": "42RcAw7Pl6Le"
      },
      "source": [
        "#### <b> Question:\n",
        "##### <b> Which state has most churns?"
      ]
    },
    {
      "cell_type": "markdown",
      "metadata": {
        "id": "Mv3Idj0BmBYW"
      },
      "source": [
        "#### <b> Analysis:"
      ]
    },
    {
      "cell_type": "code",
      "metadata": {
        "colab": {
          "base_uri": "https://localhost:8080/",
          "height": 233
        },
        "id": "LdIEbBBFmCSg",
        "outputId": "f461ce6b-ba5c-4041-b472-10a0e94810ca"
      },
      "source": [
        "# Plotting churns as per state\n",
        "telecom_df[telecom_df['Churn'] == True]['State'].value_counts().head(10).plot(kind = 'bar')\n",
        "plt.title('Number of churns according to States')\n",
        "plt.xlabel('State Name')\n",
        "plt.ylabel('Number of Churns')"
      ],
      "execution_count": 19,
      "outputs": [
        {
          "output_type": "execute_result",
          "data": {
            "text/plain": [
              "Text(0, 0.5, 'Number of Churns')"
            ]
          },
          "metadata": {},
          "execution_count": 19
        },
        {
          "output_type": "display_data",
          "data": {
            "image/png": "[encoded data removed]",
            "text/plain": [
              "<Figure size 720x360 with 1 Axes>"
            ]
          },
          "metadata": {
            "needs_background": "light"
          }
        }
      ]
    },
    {
      "cell_type": "code",
      "metadata": {
        "id": "A4o8ejs9nYcC"
      },
      "source": [
        "# Making a dataframe to store churn_rate\n",
        "state_churn = telecom_df[telecom_df['Churn'] == True]['State'].value_counts().rename_axis('unique_values').reset_index(name='counts')"
      ],
      "execution_count": 20,
      "outputs": []
    },
    {
      "cell_type": "code",
      "metadata": {
        "id": "QfWRjUJunxOj"
      },
      "source": [
        "state_customer_count = telecom_df['State'].value_counts().rename_axis('unique_values').reset_index(name='total')"
      ],
      "execution_count": 21,
      "outputs": []
    },
    {
      "cell_type": "code",
      "metadata": {
        "id": "DyM-awoCrD9P"
      },
      "source": [
        "state_churn = pd.merge(state_churn, state_customer_count, on = 'unique_values', how = 'left')"
      ],
      "execution_count": 22,
      "outputs": []
    },
    {
      "cell_type": "code",
      "metadata": {
        "id": "_5enk_3zrqXY"
      },
      "source": [
        "# Calculating churn rates\n",
        "state_churn['churn_rate'] = state_churn['counts']/state_churn['total']*100"
      ],
      "execution_count": 23,
      "outputs": []
    },
    {
      "cell_type": "code",
      "metadata": {
        "colab": {
          "base_uri": "https://localhost:8080/",
          "height": 232
        },
        "id": "Vphjsnf2r287",
        "outputId": "7fd1185d-3bc3-411c-da5b-622aaa488281"
      },
      "source": [
        "# Plotting churn rate as per state's total customers\n",
        "state_churn = state_churn.sort_values('churn_rate', ascending = False)[:10]\n",
        "sns.barplot(y = state_churn['churn_rate'], x = state_churn['unique_values'], palette = ['#1f77b4'])\n",
        "plt.title('Churn Rate according to States')\n",
        "plt.xlabel('State Name')\n",
        "plt.ylabel('Churn Rate')"
      ],
      "execution_count": 24,
      "outputs": [
        {
          "output_type": "execute_result",
          "data": {
            "text/plain": [
              "Text(0, 0.5, 'Churn Rate')"
            ]
          },
          "metadata": {},
          "execution_count": 24
        },
        {
          "output_type": "display_data",
          "data": {
            "image/png": "[encoded data removed]",
            "text/plain": [
              "<Figure size 720x360 with 1 Axes>"
            ]
          },
          "metadata": {
            "needs_background": "light"
          }
        }
      ]
    },
    {
      "cell_type": "markdown",
      "metadata": {
        "id": "s7xC5vALupoH"
      },
      "source": [
        "#### <b> Conclusion: </b>\n",
        "1. NJ has highest number of churns as well as highest churn rate.\n",
        "2. Although CA doesn't have many customer churns, but it has high churn rate.\n",
        "3. Though NY and MN have high customer churns, they don't have high churn rate."
      ]
    },
    {
      "cell_type": "markdown",
      "metadata": {
        "id": "W9zasu3f7UFS"
      },
      "source": [
        "#### <b> Question:\n",
        "##### <b> Which area has most churns?"
      ]
    },
    {
      "cell_type": "markdown",
      "metadata": {
        "id": "qdhwFxg87Yds"
      },
      "source": [
        "#### <b> Analysis:"
      ]
    },
    {
      "cell_type": "code",
      "metadata": {
        "colab": {
          "base_uri": "https://localhost:8080/",
          "height": 236
        },
        "id": "Ai7lovsC7ckf",
        "outputId": "2da1bb08-712d-4f84-e95b-573ba737721b"
      },
      "source": [
        "# Plotting churns as per area code\n",
        "telecom_df[telecom_df['Churn'] == True]['Area code'].value_counts().plot(kind = 'bar')\n",
        "plt.title('Number of churns according to Area codes')\n",
        "plt.xlabel('Area code')\n",
        "plt.ylabel('Number of Churns')"
      ],
      "execution_count": 30,
      "outputs": [
        {
          "output_type": "execute_result",
          "data": {
            "text/plain": [
              "Text(0, 0.5, 'Number of Churns')"
            ]
          },
          "metadata": {},
          "execution_count": 30
        },
        {
          "output_type": "display_data",
          "data": {
            "image/png": "[encoded data removed]",
            "text/plain": [
              "<Figure size 720x360 with 1 Axes>"
            ]
          },
          "metadata": {
            "needs_background": "light"
          }
        }
      ]
    },
    {
      "cell_type": "code",
      "metadata": {
        "id": "6LkDl5Qg7xss"
      },
      "source": [
        "# Making a dataframe to store churn_rate\n",
        "area_churn = telecom_df[telecom_df['Churn'] == True]['Area code'].value_counts().rename_axis('unique_values').reset_index(name='counts')"
      ],
      "execution_count": 26,
      "outputs": []
    },
    {
      "cell_type": "code",
      "metadata": {
        "id": "8e49Tc6X7x2X"
      },
      "source": [
        "area_customer_count = telecom_df['Area code'].value_counts().rename_axis('unique_values').reset_index(name='total')"
      ],
      "execution_count": 27,
      "outputs": []
    },
    {
      "cell_type": "code",
      "metadata": {
        "id": "UyOJN4bY8JCg"
      },
      "source": [
        "area_churn = pd.merge(area_churn, area_customer_count, on = 'unique_values', how = 'left')"
      ],
      "execution_count": 28,
      "outputs": []
    },
    {
      "cell_type": "code",
      "metadata": {
        "id": "CVCLDyUF7x-g"
      },
      "source": [
        "# Calculating churn rates\n",
        "area_churn['churn_rate'] = area_churn['counts']/area_churn['total']*100"
      ],
      "execution_count": 29,
      "outputs": []
    },
    {
      "cell_type": "code",
      "metadata": {
        "colab": {
          "base_uri": "https://localhost:8080/",
          "height": 232
        },
        "id": "KdUd5Efc7yGk",
        "outputId": "d004ed4a-db1a-4977-a396-13025e89ebab"
      },
      "source": [
        "# Plotting churn rate as per area's total customers\n",
        "area_churn = area_churn.sort_values('churn_rate', ascending = False)\n",
        "sns.barplot(y = area_churn['churn_rate'], x = area_churn['unique_values'], palette = ['#1f77b4'])\n",
        "plt.title('Churn Rate according to Area codes')\n",
        "plt.xlabel('Area code')\n",
        "plt.ylabel('Churn Rate')"
      ],
      "execution_count": 31,
      "outputs": [
        {
          "output_type": "execute_result",
          "data": {
            "text/plain": [
              "Text(0, 0.5, 'Churn Rate')"
            ]
          },
          "metadata": {},
          "execution_count": 31
        },
        {
          "output_type": "display_data",
          "data": {
            "image/png": "[encoded data removed]",
            "text/plain": [
              "<Figure size 720x360 with 1 Axes>"
            ]
          },
          "metadata": {
            "needs_background": "light"
          }
        }
      ]
    },
    {
      "cell_type": "markdown",
      "metadata": {
        "id": "rRLIT3Q-87Kf"
      },
      "source": [
        "#### <b> Conclusion: </b>\n",
        "1. Area 415 has highest number of churns.\n",
        "2. But the churn rates for all 3 areas are almost similar. Which means customers are likely to churn in any area."
      ]
    },
    {
      "cell_type": "markdown",
      "metadata": {
        "id": "B9XX1IVO96tB"
      },
      "source": [
        "#### <b> Question:\n",
        "##### <b> Are my new customers churning more or older ones?"
      ]
    },
    {
      "cell_type": "markdown",
      "metadata": {
        "id": "g3piP0rn99lw"
      },
      "source": [
        "#### <b> Analysis:"
      ]
    },
    {
      "cell_type": "markdown",
      "metadata": {
        "id": "LUAI0Tfg_7vs"
      },
      "source": [
        "We shall introduce a new column named account_age which will tell us about the age of the account on whether it is new or old. We shall perform the division based upon median."
      ]
    },
    {
      "cell_type": "code",
      "metadata": {
        "id": "zMVRvAW590BK"
      },
      "source": [
        "telecom_df['account_age'] = telecom_df['Account length'].apply(lambda x : 'old' if x > telecom_df['Account length'].median() else 'new')"
      ],
      "execution_count": 38,
      "outputs": []
    },
    {
      "cell_type": "code",
      "metadata": {
        "colab": {
          "base_uri": "https://localhost:8080/",
          "height": 254
        },
        "id": "gkXO7ImfAtWf",
        "outputId": "68abfc4b-b70f-460f-a9e4-3366d2f7054d"
      },
      "source": [
        "telecom_df.head()"
      ],
      "execution_count": 39,
      "outputs": [
        {
          "output_type": "execute_result",
          "data": {
            "text/html": [
              "<div>\n",
              "<style scoped>\n",
              "    .dataframe tbody tr th:only-of-type {\n",
              "        vertical-align: middle;\n",
              "    }\n",
              "\n",
              "    .dataframe tbody tr th {\n",
              "        vertical-align: top;\n",
              "    }\n",
              "\n",
              "    .dataframe thead th {\n",
              "        text-align: right;\n",
              "    }\n",
              "</style>\n",
              "<table border=\"1\" class=\"dataframe\">\n",
              "  <thead>\n",
              "    <tr style=\"text-align: right;\">\n",
              "      <th></th>\n",
              "      <th>State</th>\n",
              "      <th>Account length</th>\n",
              "      <th>Area code</th>\n",
              "      <th>International plan</th>\n",
              "      <th>Voice mail plan</th>\n",
              "      <th>Number vmail messages</th>\n",
              "      <th>Total day minutes</th>\n",
              "      <th>Total day calls</th>\n",
              "      <th>Total day charge</th>\n",
              "      <th>Total eve minutes</th>\n",
              "      <th>Total eve calls</th>\n",
              "      <th>Total eve charge</th>\n",
              "      <th>Total night minutes</th>\n",
              "      <th>Total night calls</th>\n",
              "      <th>Total night charge</th>\n",
              "      <th>Total intl minutes</th>\n",
              "      <th>Total intl calls</th>\n",
              "      <th>Total intl charge</th>\n",
              "      <th>Customer service calls</th>\n",
              "      <th>Churn</th>\n",
              "      <th>account_age</th>\n",
              "    </tr>\n",
              "  </thead>\n",
              "  <tbody>\n",
              "    <tr>\n",
              "      <th>0</th>\n",
              "      <td>KS</td>\n",
              "      <td>128</td>\n",
              "      <td>415</td>\n",
              "      <td>No</td>\n",
              "      <td>Yes</td>\n",
              "      <td>25</td>\n",
              "      <td>265.1</td>\n",
              "      <td>110</td>\n",
              "      <td>45.07</td>\n",
              "      <td>197.4</td>\n",
              "      <td>99</td>\n",
              "      <td>16.78</td>\n",
              "      <td>244.7</td>\n",
              "      <td>91</td>\n",
              "      <td>11.01</td>\n",
              "      <td>10.0</td>\n",
              "      <td>3</td>\n",
              "      <td>2.70</td>\n",
              "      <td>1</td>\n",
              "      <td>False</td>\n",
              "      <td>old</td>\n",
              "    </tr>\n",
              "    <tr>\n",
              "      <th>1</th>\n",
              "      <td>OH</td>\n",
              "      <td>107</td>\n",
              "      <td>415</td>\n",
              "      <td>No</td>\n",
              "      <td>Yes</td>\n",
              "      <td>26</td>\n",
              "      <td>161.6</td>\n",
              "      <td>123</td>\n",
              "      <td>27.47</td>\n",
              "      <td>195.5</td>\n",
              "      <td>103</td>\n",
              "      <td>16.62</td>\n",
              "      <td>254.4</td>\n",
              "      <td>103</td>\n",
              "      <td>11.45</td>\n",
              "      <td>13.7</td>\n",
              "      <td>3</td>\n",
              "      <td>3.70</td>\n",
              "      <td>1</td>\n",
              "      <td>False</td>\n",
              "      <td>old</td>\n",
              "    </tr>\n",
              "    <tr>\n",
              "      <th>2</th>\n",
              "      <td>NJ</td>\n",
              "      <td>137</td>\n",
              "      <td>415</td>\n",
              "      <td>No</td>\n",
              "      <td>No</td>\n",
              "      <td>0</td>\n",
              "      <td>243.4</td>\n",
              "      <td>114</td>\n",
              "      <td>41.38</td>\n",
              "      <td>121.2</td>\n",
              "      <td>110</td>\n",
              "      <td>10.30</td>\n",
              "      <td>162.6</td>\n",
              "      <td>104</td>\n",
              "      <td>7.32</td>\n",
              "      <td>12.2</td>\n",
              "      <td>5</td>\n",
              "      <td>3.29</td>\n",
              "      <td>0</td>\n",
              "      <td>False</td>\n",
              "      <td>old</td>\n",
              "    </tr>\n",
              "    <tr>\n",
              "      <th>3</th>\n",
              "      <td>OH</td>\n",
              "      <td>84</td>\n",
              "      <td>408</td>\n",
              "      <td>Yes</td>\n",
              "      <td>No</td>\n",
              "      <td>0</td>\n",
              "      <td>299.4</td>\n",
              "      <td>71</td>\n",
              "      <td>50.90</td>\n",
              "      <td>61.9</td>\n",
              "      <td>88</td>\n",
              "      <td>5.26</td>\n",
              "      <td>196.9</td>\n",
              "      <td>89</td>\n",
              "      <td>8.86</td>\n",
              "      <td>6.6</td>\n",
              "      <td>7</td>\n",
              "      <td>1.78</td>\n",
              "      <td>2</td>\n",
              "      <td>False</td>\n",
              "      <td>new</td>\n",
              "    </tr>\n",
              "    <tr>\n",
              "      <th>4</th>\n",
              "      <td>OK</td>\n",
              "      <td>75</td>\n",
              "      <td>415</td>\n",
              "      <td>Yes</td>\n",
              "      <td>No</td>\n",
              "      <td>0</td>\n",
              "      <td>166.7</td>\n",
              "      <td>113</td>\n",
              "      <td>28.34</td>\n",
              "      <td>148.3</td>\n",
              "      <td>122</td>\n",
              "      <td>12.61</td>\n",
              "      <td>186.9</td>\n",
              "      <td>121</td>\n",
              "      <td>8.41</td>\n",
              "      <td>10.1</td>\n",
              "      <td>3</td>\n",
              "      <td>2.73</td>\n",
              "      <td>3</td>\n",
              "      <td>False</td>\n",
              "      <td>new</td>\n",
              "    </tr>\n",
              "  </tbody>\n",
              "</table>\n",
              "</div>"
            ],
            "text/plain": [
              "  State  Account length  Area code  ... Customer service calls  Churn  account_age\n",
              "0    KS             128        415  ...                      1  False          old\n",
              "1    OH             107        415  ...                      1  False          old\n",
              "2    NJ             137        415  ...                      0  False          old\n",
              "3    OH              84        408  ...                      2  False          new\n",
              "4    OK              75        415  ...                      3  False          new\n",
              "\n",
              "[5 rows x 21 columns]"
            ]
          },
          "metadata": {},
          "execution_count": 39
        }
      ]
    },
    {
      "cell_type": "code",
      "metadata": {
        "colab": {
          "base_uri": "https://localhost:8080/",
          "height": 239
        },
        "id": "A2GWt-eJBfXS",
        "outputId": "95c41ac8-99af-41e1-9c0d-471f3e91478c"
      },
      "source": [
        "telecom_df.groupby('account_age')['Churn'].value_counts().unstack().plot(kind='bar')\n",
        "plt.title('Customer churns according to account age')\n",
        "plt.xlabel('Account age')"
      ],
      "execution_count": 46,
      "outputs": [
        {
          "output_type": "execute_result",
          "data": {
            "text/plain": [
              "Text(0.5, 0, 'Account age')"
            ]
          },
          "metadata": {},
          "execution_count": 46
        },
        {
          "output_type": "display_data",
          "data": {
            "image/png": "[encoded data removed]",
            "text/plain": [
              "<Figure size 720x360 with 1 Axes>"
            ]
          },
          "metadata": {
            "needs_background": "light"
          }
        }
      ]
    },
    {
      "cell_type": "markdown",
      "metadata": {
        "id": "hglljeAKCdGD"
      },
      "source": [
        "#### <b> Conclusion: </b>\n",
        "1. It is clear from the above graph that customers have similar probability to churn irrespective of the length they are using the service."
      ]
    },
    {
      "cell_type": "markdown",
      "metadata": {
        "id": "8ppNnEGpJFjq"
      },
      "source": [
        "#### <b> Question:\n",
        "##### <b> What is the relationship between Churn and opting for Voice mail plan?"
      ]
    },
    {
      "cell_type": "markdown",
      "metadata": {
        "id": "UQ9AUye5JJ8F"
      },
      "source": [
        "#### <b> Analysis:"
      ]
    },
    {
      "cell_type": "code",
      "metadata": {
        "colab": {
          "base_uri": "https://localhost:8080/",
          "height": 232
        },
        "id": "nt0o0gViJNgj",
        "outputId": "100daa79-96b4-4225-86ed-2e70d65e55b7"
      },
      "source": [
        "telecom_df.groupby('Voice mail plan')['Churn'].value_counts().unstack().plot(kind='bar')\n",
        "plt.title('Customer churns according to Voicemail plan')\n",
        "plt.xlabel('Voicemail plan status')\n",
        "plt.ylabel('Count')"
      ],
      "execution_count": 57,
      "outputs": [
        {
          "output_type": "execute_result",
          "data": {
            "text/plain": [
              "Text(0, 0.5, 'Count')"
            ]
          },
          "metadata": {},
          "execution_count": 57
        },
        {
          "output_type": "display_data",
          "data": {
            "image/png": "[encoded data removed]",
            "text/plain": [
              "<Figure size 720x360 with 1 Axes>"
            ]
          },
          "metadata": {
            "needs_background": "light"
          }
        }
      ]
    },
    {
      "cell_type": "markdown",
      "metadata": {
        "id": "sjGWklbhJdUa"
      },
      "source": [
        "#### <b> Conclusion: </b>\n",
        "1. Customers with or without voicemail plan are equally likely to churn."
      ]
    },
    {
      "cell_type": "markdown",
      "metadata": {
        "id": "gWcvsF6XHeZV"
      },
      "source": [
        "#### <b> Question:\n",
        "##### <b> What is the relationship between Churn and opting for international plan?"
      ]
    },
    {
      "cell_type": "markdown",
      "metadata": {
        "id": "ppoJ9ZktHoUV"
      },
      "source": [
        "#### <b> Analysis:"
      ]
    },
    {
      "cell_type": "code",
      "metadata": {
        "colab": {
          "base_uri": "https://localhost:8080/",
          "height": 232
        },
        "id": "L_ZMmOMfI4fQ",
        "outputId": "bb1e0b07-ef71-4e50-d2a8-522431de1e89"
      },
      "source": [
        "telecom_df.groupby('International plan')['Churn'].value_counts().unstack().plot(kind='bar')\n",
        "plt.title('Customer churns according to International plan')\n",
        "plt.xlabel('International plan status')\n",
        "plt.ylabel('Count')"
      ],
      "execution_count": 55,
      "outputs": [
        {
          "output_type": "execute_result",
          "data": {
            "text/plain": [
              "Text(0, 0.5, 'Count')"
            ]
          },
          "metadata": {},
          "execution_count": 55
        },
        {
          "output_type": "display_data",
          "data": {
            "image/png": "[encoded data removed]",
            "text/plain": [
              "<Figure size 720x360 with 1 Axes>"
            ]
          },
          "metadata": {
            "needs_background": "light"
          }
        }
      ]
    },
    {
      "cell_type": "markdown",
      "metadata": {
        "id": "MJ9LS-jdHtkI"
      },
      "source": [
        "#### <b> Conclusion: </b>\n",
        "1. Although customers with international plans are lesser in number, they are more likely to churn."
      ]
    },
    {
      "cell_type": "markdown",
      "metadata": {
        "id": "Fq6eOTQJEF0Y"
      },
      "source": [
        "#### <b> Question:\n",
        "##### <b> What is the relationship between number of service calls and churn?"
      ]
    },
    {
      "cell_type": "markdown",
      "metadata": {
        "id": "0XPtUF6eEGCI"
      },
      "source": [
        "#### <b> Analysis:"
      ]
    },
    {
      "cell_type": "code",
      "metadata": {
        "colab": {
          "base_uri": "https://localhost:8080/",
          "height": 231
        },
        "id": "_w3OH1MVETpN",
        "outputId": "f22d1706-71e7-44b5-ec0d-53b69f547196"
      },
      "source": [
        "telecom_df.groupby('Customer service calls')['Churn'].value_counts().unstack().plot(kind='bar')\n",
        "plt.title('Customer churns according to customer service calls')\n",
        "plt.xlabel('Number of service calls')"
      ],
      "execution_count": 48,
      "outputs": [
        {
          "output_type": "execute_result",
          "data": {
            "text/plain": [
              "Text(0.5, 0, 'Number of service calls')"
            ]
          },
          "metadata": {},
          "execution_count": 48
        },
        {
          "output_type": "display_data",
          "data": {
            "image/png": "[encoded data removed]",
            "text/plain": [
              "<Figure size 720x360 with 1 Axes>"
            ]
          },
          "metadata": {
            "needs_background": "light"
          }
        }
      ]
    },
    {
      "cell_type": "markdown",
      "metadata": {
        "id": "-4D5swDQGwoj"
      },
      "source": [
        "#### <b> Conclusion: </b>\n",
        "1. Although the probability of making more than 3 calls is lower, but if made more than 3 calls, customers are more likely to churn."
      ]
    }
  ]
}