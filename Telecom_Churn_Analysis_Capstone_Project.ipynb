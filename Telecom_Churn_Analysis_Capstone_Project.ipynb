{
  "nbformat": 4,
  "nbformat_minor": 0,
  "metadata": {
    "kernelspec": {
      "display_name": "Python 3",
      "language": "python",
      "name": "python3"
    },
    "language_info": {
      "codemirror_mode": {
        "name": "ipython",
        "version": 3
      },
      "file_extension": ".py",
      "mimetype": "text/x-python",
      "name": "python",
      "nbconvert_exporter": "python",
      "pygments_lexer": "ipython3",
      "version": "3.6.6"
    },
    "colab": {
      "name": "Telecom Churn Analysis - Capstone Project.ipynb",
      "provenance": [],
      "collapsed_sections": [],
      "include_colab_link": true
    }
  },
  "cells": [
    {
      "cell_type": "markdown",
      "metadata": {
        "id": "view-in-github",
        "colab_type": "text"
      },
      "source": [
        "<a href=\"https://colab.research.google.com/github/Subhajit53/Teleom-Churn-Analysis/blob/main/Telecom_Churn_Analysis_Capstone_Project.ipynb\" target=\"_parent\"><img src=\"https://colab.research.google.com/assets/colab-badge.svg\" alt=\"Open In Colab\"/></a>"
      ]
    },
    {
      "cell_type": "markdown",
      "metadata": {
        "id": "Y06xIdG26kRF"
      },
      "source": [
        "## <b> Orange S.A., formerly France Télécom S.A., is a French multinational telecommunications corporation. The Orange Telecom's Churn Dataset, consists of cleaned customer activity data (features), along with a churn label specifying whether a customer canceled the subscription.\n",
        "\n",
        "## <b> Explore and analyze the data to discover key factors responsible for customer churn and come up with ways/recommendations to ensure customer retention. </b>"
      ]
    },
    {
      "cell_type": "markdown",
      "metadata": {
        "id": "U3nvmdYRUigC"
      },
      "source": [
        "#<b>Introduction\n",
        "#####\"We see our customers as invited guests to a party, and we are the hosts. It's our job everyday to make every important aspect of the customer experience a little better.\"\n",
        "##### The above quote, given by Jeff Bezos, founder and CEO of Amazon, tells a lot about customer retention in this competitive world. If you don't serve your customers well, there are many hungry companies to take away that bite from your mouth.\n",
        "##### That's why, customer retention has been one of the chief goals of any customer serving company. Unsatisfied customers not only make loss to the business, but also creates a negative impression in the market.\n",
        "##### And in this telecom dependent era, there are a lot of emerging companies to give a tough competition to any other existing telecom industry whether it is in pricing, data speed, call connectivity, international charges and all.\n",
        "##### There might be several factors affecting customer churn for a specific company. Naturally, Orange S.A. also wants to find out what reasons are causing its customers to leave their services. And by finding that out, it can take precautious measures to retain its customers."
      ]
    },
    {
      "cell_type": "markdown",
      "metadata": {
        "id": "EymwBoDkZHmY"
      },
      "source": [
        "#<b> The Taking Data\n",
        "##### The data in question here have 20 columns and 3333 rows. Although no data dictionary was provided with the dataset, let's try to figure out what features our dataset have."
      ]
    }
  ]
}